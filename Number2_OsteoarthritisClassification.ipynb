{
 "cells": [
  {
   "cell_type": "markdown",
   "id": "90a1459b",
   "metadata": {},
   "source": [
    "# UTS Deep Learning Number 2\n",
    "Name: Austin Kane\\\n",
    "NIM: 270222932\\\n",
    "Dataset: [Dataset B](https://drive.google.com/drive/folders/1pThuel6dU23CLRseKzymT4oNDUECq_c6)\\\n",
    "Video Link: [Video2]()"
   ]
  },
  {
   "cell_type": "markdown",
   "id": "63e0932b",
   "metadata": {},
   "source": [
    "# 2. Convolutional Neural Network\n",
    "Anda adalah seorang Data Scientist di bidang medis. Anda mendapatkan tugas untuk mengembangkan model **Convolutional Neural Network (CNN)** untuk melakukan klasifikasi gambar/citra medis Osteoarthritis.\n",
    "Download dataset yang telah disediakan dan kerjakan task berikut ini.\n",
    "1. Lakukan **Exploratory Data Analysis** untuk memeriksa kondisi data yang anda miliki, seperti histogram warna untuk setiap kategori, aspect ratio, resolution, dan variability (lighting, angle, occlusions, dan sebagainya). Lalu pisahkan data anda menjadi train, validation, dan test dengan proporsi data validation sebesar 15% dari data train! Lakukan pre-processing pada data anda.\n",
    "2. [LO2, LO3, & LO4 – 10 Poin] Buatlah sebuah **model CNN dengan arsitektur AlexNet secara manual** (tidak menggunakan pre-trained model dari Keras) seperti pada gambar di samping dan adaptasikan output layer pada gambar sesuai dengan dataset anda. Model ini akan disebut sebagai **Baseline Model**. Lakukan training pada model anda dengan minimal 10 epoch.\n",
    "3. [LO2, LO3, & LO4 – 15 Poin] **Modifikasi arsitektur AlexNet** yang sudah dibuat. Anda bisa menambahkan DropOut, Batch Normalization, dan sebagainya. Anda juga bisa mengganti modelnya dengan arsitektur CNN lain seperti DenseNet, EfficientNet, dan sebagainya. Jelaskan alasan modifikasi anda dan lakukan training (minimal 10 epoch) serta fine-tuning untuk hyperparameter pada model ini.\n",
    "4. [LO2, LO3, & LO4 – 10 Poin] Lakukan **evaluasi performa model** anda pada data test dengan menggunakan **minimal 3 evaluation metrics**. Analisis, jelaskan, dan simpulkan hasilnya.\n",
    "5. [LO1, LO2 – 5 Points] Buatlah **video presentasi** yang menjelaskan langkah-langkah pengerjaan anda serta hasil analisis anda dengan durasi maksimal 15 menit."
   ]
  },
  {
   "cell_type": "markdown",
   "id": "d6d2a65f",
   "metadata": {},
   "source": [
    "## Import Libraries"
   ]
  },
  {
   "cell_type": "code",
   "execution_count": 3,
   "id": "e76c0e70",
   "metadata": {},
   "outputs": [],
   "source": [
    "import numpy as np\n",
    "import pandas as pd\n",
    "import matplotlib.pyplot as plt\n",
    "\n",
    "import tensorflow as tf\n",
    "import os\n",
    "\n",
    "import cv2"
   ]
  },
  {
   "cell_type": "markdown",
   "id": "05e5f910",
   "metadata": {},
   "source": [
    "## Read the Data"
   ]
  },
  {
   "cell_type": "code",
   "execution_count": null,
   "id": "52afd333",
   "metadata": {},
   "outputs": [
    {
     "data": {
      "text/plain": [
       "['1_Doubtful_1.png',\n",
       " '1_Doubtful_10.png',\n",
       " '1_Doubtful_100.png',\n",
       " '1_Doubtful_101.png',\n",
       " '1_Doubtful_102.png',\n",
       " '1_Doubtful_103.png',\n",
       " '1_Doubtful_104.png',\n",
       " '1_Doubtful_105.png',\n",
       " '1_Doubtful_106.png',\n",
       " '1_Doubtful_107.png',\n",
       " '1_Doubtful_108.png',\n",
       " '1_Doubtful_109.png',\n",
       " '1_Doubtful_11.png',\n",
       " '1_Doubtful_110.png',\n",
       " '1_Doubtful_111.png',\n",
       " '1_Doubtful_112.png',\n",
       " '1_Doubtful_113.png',\n",
       " '1_Doubtful_114.png',\n",
       " '1_Doubtful_115.png',\n",
       " '1_Doubtful_116.png',\n",
       " '1_Doubtful_117.png',\n",
       " '1_Doubtful_12.png',\n",
       " '1_Doubtful_13.png',\n",
       " '1_Doubtful_14.png',\n",
       " '1_Doubtful_15.png',\n",
       " '1_Doubtful_16.png',\n",
       " '1_Doubtful_17.png',\n",
       " '1_Doubtful_18.png',\n",
       " '1_Doubtful_19.png',\n",
       " '1_Doubtful_2.png',\n",
       " '1_Doubtful_20.png',\n",
       " '1_Doubtful_21.png',\n",
       " '1_Doubtful_22.png',\n",
       " '1_Doubtful_23.png',\n",
       " '1_Doubtful_24.png',\n",
       " '1_Doubtful_25.png',\n",
       " '1_Doubtful_26.png',\n",
       " '1_Doubtful_27.png',\n",
       " '1_Doubtful_28.png',\n",
       " '1_Doubtful_29.png',\n",
       " '1_Doubtful_3.png',\n",
       " '1_Doubtful_30.png',\n",
       " '1_Doubtful_31.png',\n",
       " '1_Doubtful_32.png',\n",
       " '1_Doubtful_33.png',\n",
       " '1_Doubtful_34.png',\n",
       " '1_Doubtful_35.png',\n",
       " '1_Doubtful_36.png',\n",
       " '1_Doubtful_37.png',\n",
       " '1_Doubtful_38.png',\n",
       " '1_Doubtful_39.png',\n",
       " '1_Doubtful_4.png',\n",
       " '1_Doubtful_40.png',\n",
       " '1_Doubtful_41.png',\n",
       " '1_Doubtful_42.png',\n",
       " '1_Doubtful_43.png',\n",
       " '1_Doubtful_44.png',\n",
       " '1_Doubtful_45.png',\n",
       " '1_Doubtful_46.png',\n",
       " '1_Doubtful_47.png',\n",
       " '1_Doubtful_48.png',\n",
       " '1_Doubtful_49.png',\n",
       " '1_Doubtful_5.png',\n",
       " '1_Doubtful_50.png',\n",
       " '1_Doubtful_51.png',\n",
       " '1_Doubtful_52.png',\n",
       " '1_Doubtful_53.png',\n",
       " '1_Doubtful_54.png',\n",
       " '1_Doubtful_55.png',\n",
       " '1_Doubtful_56.png',\n",
       " '1_Doubtful_57.png',\n",
       " '1_Doubtful_58.png',\n",
       " '1_Doubtful_59.png',\n",
       " '1_Doubtful_6.png',\n",
       " '1_Doubtful_60.png',\n",
       " '1_Doubtful_61.png',\n",
       " '1_Doubtful_62.png',\n",
       " '1_Doubtful_63.png',\n",
       " '1_Doubtful_64.png',\n",
       " '1_Doubtful_65.png',\n",
       " '1_Doubtful_66.png',\n",
       " '1_Doubtful_67.png',\n",
       " '1_Doubtful_68.png',\n",
       " '1_Doubtful_69.png',\n",
       " '1_Doubtful_7.png',\n",
       " '1_Doubtful_70.png',\n",
       " '1_Doubtful_71.png',\n",
       " '1_Doubtful_72.png',\n",
       " '1_Doubtful_73.png',\n",
       " '1_Doubtful_74.png',\n",
       " '1_Doubtful_75.png',\n",
       " '1_Doubtful_76.png',\n",
       " '1_Doubtful_77.png',\n",
       " '1_Doubtful_78.png',\n",
       " '1_Doubtful_79.png',\n",
       " '1_Doubtful_8.png',\n",
       " '1_Doubtful_80.png',\n",
       " '1_Doubtful_81.png',\n",
       " '1_Doubtful_82.png',\n",
       " '1_Doubtful_83.png',\n",
       " '1_Doubtful_84.png',\n",
       " '1_Doubtful_85.png',\n",
       " '1_Doubtful_86.png',\n",
       " '1_Doubtful_87.png',\n",
       " '1_Doubtful_88.png',\n",
       " '1_Doubtful_89.png',\n",
       " '1_Doubtful_9.png',\n",
       " '1_Doubtful_90.png',\n",
       " '1_Doubtful_91.png',\n",
       " '1_Doubtful_92.png',\n",
       " '1_Doubtful_93.png',\n",
       " '1_Doubtful_94.png',\n",
       " '1_Doubtful_95.png',\n",
       " '1_Doubtful_96.png',\n",
       " '1_Doubtful_97.png',\n",
       " '1_Doubtful_98.png',\n",
       " '1_Doubtful_99.png']"
      ]
     },
     "execution_count": 10,
     "metadata": {},
     "output_type": "execute_result"
    }
   ],
   "source": [
    "test_path = \"data/02/test\"\n",
    "os.listdir(os.path.join(test_path))"
   ]
  },
  {
   "cell_type": "code",
   "execution_count": 5,
   "id": "276897a0",
   "metadata": {},
   "outputs": [],
   "source": [
    "image_ext = \".png\"\n",
    "\n",
    "image_size =  (224, 224)\n",
    "batch_size = 32"
   ]
  },
  {
   "cell_type": "markdown",
   "id": "7e420888",
   "metadata": {},
   "source": [
    "## Explaratory Data Analysis (EDA)"
   ]
  },
  {
   "cell_type": "markdown",
   "id": "90789c64",
   "metadata": {},
   "source": [
    "## Data Preprocessing"
   ]
  },
  {
   "cell_type": "markdown",
   "id": "04c8b92a",
   "metadata": {},
   "source": [
    "## Baseline Model"
   ]
  },
  {
   "cell_type": "markdown",
   "id": "2c231c59",
   "metadata": {},
   "source": [
    "## Hyperparameter Fine-Tuning"
   ]
  },
  {
   "cell_type": "markdown",
   "id": "161c09c8",
   "metadata": {},
   "source": [
    "## Evaluation"
   ]
  }
 ],
 "metadata": {
  "kernelspec": {
   "display_name": "utsdl2",
   "language": "python",
   "name": "python3"
  },
  "language_info": {
   "codemirror_mode": {
    "name": "ipython",
    "version": 3
   },
   "file_extension": ".py",
   "mimetype": "text/x-python",
   "name": "python",
   "nbconvert_exporter": "python",
   "pygments_lexer": "ipython3",
   "version": "3.12.9"
  }
 },
 "nbformat": 4,
 "nbformat_minor": 5
}
