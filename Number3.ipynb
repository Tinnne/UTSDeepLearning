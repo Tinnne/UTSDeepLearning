{
 "cells": [
  {
   "cell_type": "markdown",
   "id": "c27163bd",
   "metadata": {},
   "source": [
    "# UTS Deep Learning Number 3\n",
    "Name: Austin Kane\\\n",
    "NIM: 270222932\\\n",
    "Video Link: [Video3]()"
   ]
  },
  {
   "cell_type": "markdown",
   "id": "a1ca94a7",
   "metadata": {},
   "source": [
    "# 3. Deep Learning Model Comprehension\n",
    "Pemahaman konsep Deep Learning. Buatlah **video presentasi** maksimal 7 menit yang menjelaskan topik di bawah ini\n",
    "1. Di era sekarang ini, arsitektur YOLO menjadi pilihan utama dalam berbagai kasus object detection dibandingkan dengan RCNN. Jelaskan apa yang **membedakan YOLO dengan RCNN** termasuk dari segi arsitektur, serta mengapa YOLO menjadi lebih banyak digunakan dibandingkan dengan RCNN!\n",
    "2. 3B – EfficientNet adalah backbone CNN yang diperkenalkan pada tahun 2019. Sejak diperkenalkan, EfficientNet menggapai reputasi yang tinggi sebagai model yang cepat, lightweight, dan akurat. Jelaskan apa metode yang menjadi **kelebihan utama EfficientNet** untuk mempertahankan ketepatan dan kecepatan yang tinggi, serta gambaran umum bagaimana metode tersebut bekerja!"
   ]
  }
 ],
 "metadata": {
  "language_info": {
   "name": "python"
  }
 },
 "nbformat": 4,
 "nbformat_minor": 5
}
