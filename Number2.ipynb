{
 "cells": [
  {
   "cell_type": "markdown",
   "id": "90a1459b",
   "metadata": {},
   "source": [
    "# UTS Deep Learning Number 2\n",
    "Name: Austin Kane\\\n",
    "NIM: 270222932\\\n",
    "Dataset: [Dataset B](https://drive.google.com/drive/folders/1pThuel6dU23CLRseKzymT4oNDUECq_c6)\\\n",
    "Video Link: [Video2]()"
   ]
  },
  {
   "cell_type": "markdown",
   "id": "63e0932b",
   "metadata": {},
   "source": [
    "# 2. Convolutional Neural Network\n",
    "Anda adalah seorang Data Scientist di bidang medis. Anda mendapatkan tugas untuk mengembangkan model **Convolutional Neural Network (CNN)** untuk melakukan klasifikasi gambar/citra medis Osteoarthritis\n",
    "Download dataset yang telah disediakan dan kerjakan task berikut ini.\n",
    "1. Lakukan **Exploratory Data Analysis** untuk memeriksa kondisi data yang anda miliki, seperti histogram warna untuk setiap kategori, aspect ratio, resolution, dan variability (lighting, angle, occlusions, dan sebagainya). Lalu pisahkan data anda menjadi train, validation, dan test dengan proporsi data validation sebesar 15% dari data train! Lakukan pre-processing pada data anda.\n",
    "2. [LO2, LO3, & LO4 – 10 Poin] Buatlah sebuah **model CNN dengan arsitektur AlexNet secara manual** (tidak menggunakan pre-trained model dari Keras) seperti pada gambar di samping dan adaptasikan output layer pada gambar sesuai dengan dataset anda. Model ini akan disebut sebagai **Baseline Model**. Lakukan training pada model anda dengan minimal 10 epoch.\n",
    "3. [LO2, LO3, & LO4 – 15 Poin] **Modifikasi arsitektur AlexNet** yang sudah dibuat. Anda bisa menambahkan DropOut, Batch Normalization, dan sebagainya. Anda juga bisa mengganti modelnya dengan arsitektur CNN lain seperti DenseNet, EfficientNet, dan sebagainya. Jelaskan alasan modifikasi anda dan lakukan training (minimal 10 epoch) serta fine-tuning untuk hyperparameter pada model ini.\n",
    "4. [LO2, LO3, & LO4 – 10 Poin] Lakukan **evaluasi performa model** anda pada data test dengan menggunakan **minimal 3 evaluation metrics**. Analisis, jelaskan, dan simpulkan hasilnya.\n",
    "5. [LO1, LO2 – 5 Points] Buatlah **video presentasi** yang menjelaskan langkah-langkah pengerjaan anda serta hasil analisis anda dengan durasi maksimal 15 menit."
   ]
  },
  {
   "cell_type": "markdown",
   "id": "d6d2a65f",
   "metadata": {},
   "source": [
    "## Import Libraries"
   ]
  },
  {
   "cell_type": "code",
   "execution_count": 1,
   "id": "e76c0e70",
   "metadata": {},
   "outputs": [],
   "source": [
    "import numpy as np\n",
    "import pandas as pd\n",
    "import matplotlib.pyplot as plt"
   ]
  },
  {
   "cell_type": "markdown",
   "id": "05e5f910",
   "metadata": {},
   "source": [
    "## Read the Data"
   ]
  },
  {
   "cell_type": "code",
   "execution_count": null,
   "id": "52afd333",
   "metadata": {},
   "outputs": [],
   "source": []
  },
  {
   "cell_type": "markdown",
   "id": "7e420888",
   "metadata": {},
   "source": [
    "## Explaratory Data Analysis (EDA)"
   ]
  },
  {
   "cell_type": "markdown",
   "id": "90789c64",
   "metadata": {},
   "source": [
    "## Data Preprocessing"
   ]
  },
  {
   "cell_type": "markdown",
   "id": "04c8b92a",
   "metadata": {},
   "source": [
    "## Baseline Model"
   ]
  },
  {
   "cell_type": "markdown",
   "id": "2c231c59",
   "metadata": {},
   "source": [
    "## Hyperparameter Fine-Tuning"
   ]
  },
  {
   "cell_type": "markdown",
   "id": "161c09c8",
   "metadata": {},
   "source": [
    "## Evaluation"
   ]
  }
 ],
 "metadata": {
  "kernelspec": {
   "display_name": "UTSDL",
   "language": "python",
   "name": "python3"
  },
  "language_info": {
   "codemirror_mode": {
    "name": "ipython",
    "version": 3
   },
   "file_extension": ".py",
   "mimetype": "text/x-python",
   "name": "python",
   "nbconvert_exporter": "python",
   "pygments_lexer": "ipython3",
   "version": "3.13.2"
  }
 },
 "nbformat": 4,
 "nbformat_minor": 5
}
